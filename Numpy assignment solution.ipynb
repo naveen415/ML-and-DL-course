{
 "cells": [
  {
   "cell_type": "markdown",
   "metadata": {},
   "source": [
    " -  Write a function so that the columns of the output matrix are powers of the input\n",
    "    vector.\n",
    "    The order of the powers is determined by the increasing boolean argument. Specifically, when\n",
    "    increasing is False, the i-th output column is the input vector raised element-wise to the power\n",
    "    of N - i - 1.\n",
    "    HINT: Such a matrix with a geometric progression in each row is named for Alexandre-\n",
    "    Theophile Vandermonde."
   ]
  },
  {
   "cell_type": "code",
   "execution_count": 1,
   "metadata": {},
   "outputs": [],
   "source": [
    "import numpy as np\n",
    "import pandas as pd"
   ]
  },
  {
   "cell_type": "code",
   "execution_count": 2,
   "metadata": {},
   "outputs": [],
   "source": [
    "def ATV(vect, N, increasing):\n",
    "    mat=np.array(vect).T\n",
    "    mat1=mat**0\n",
    "    print(mat)\n",
    "    if increasing== True:\n",
    "        \n",
    "        for i in range(1,N):\n",
    "            mat1=np.column_stack((mat1,mat**i))\n",
    "    else:\n",
    "        for i in range(1,N):\n",
    "            \n",
    "            mat1=np.column_stack((mat**i,mat1))\n",
    "\n",
    "        \n",
    "    print(mat1)     "
   ]
  },
  {
   "cell_type": "code",
   "execution_count": 3,
   "metadata": {},
   "outputs": [
    {
     "name": "stdout",
     "output_type": "stream",
     "text": [
      "[1 2 3]\n",
      "[[1 1 1]\n",
      " [4 2 1]\n",
      " [9 3 1]]\n"
     ]
    }
   ],
   "source": [
    "ATV([1,2,3],3,False)"
   ]
  },
  {
   "cell_type": "markdown",
   "metadata": {},
   "source": [
    "### kth moving average"
   ]
  },
  {
   "cell_type": "code",
   "execution_count": 4,
   "metadata": {},
   "outputs": [],
   "source": [
    "def moving_average(sequence, k):\n",
    "    N=len(sequence) -k+1\n",
    "    sequence=np.array(sequence)\n",
    "    result=np.zeros(N)\n",
    "\n",
    "    for i in range(N):\n",
    "        for j in range(i,i+k):\n",
    "            result[i]=result[i] +sequence[j]\n",
    "        result[i]=result[i]/(k)    \n",
    "    print(result)\n"
   ]
  },
  {
   "cell_type": "code",
   "execution_count": 5,
   "metadata": {},
   "outputs": [
    {
     "name": "stdout",
     "output_type": "stream",
     "text": [
      "[  5.           4.66666667   5.66666667   6.66666667   9.66666667\n",
      "  28.66666667  49.33333333  72.66666667  84.          93.33333333\n",
      " 116.33333333]\n"
     ]
    }
   ],
   "source": [
    "moving_average([3, 5, 7, 2, 8, 10, 11, 65, 72, 81, 99, 100, 150], 3)"
   ]
  },
  {
   "cell_type": "code",
   "execution_count": null,
   "metadata": {},
   "outputs": [],
   "source": []
  }
 ],
 "metadata": {
  "kernelspec": {
   "display_name": "Python 3",
   "language": "python",
   "name": "python3"
  },
  "language_info": {
   "codemirror_mode": {
    "name": "ipython",
    "version": 3
   },
   "file_extension": ".py",
   "mimetype": "text/x-python",
   "name": "python",
   "nbconvert_exporter": "python",
   "pygments_lexer": "ipython3",
   "version": "3.8.3"
  }
 },
 "nbformat": 4,
 "nbformat_minor": 4
}
